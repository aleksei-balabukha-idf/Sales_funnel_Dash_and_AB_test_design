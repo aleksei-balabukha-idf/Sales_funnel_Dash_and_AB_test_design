{
 "cells": [
  {
   "cell_type": "code",
   "execution_count": 2,
   "metadata": {},
   "outputs": [],
   "source": [
    "import pandas as pd\n",
    "import numpy as np\n",
    "import scipy.stats as st\n",
    "import plotly.express as px"
   ]
  },
  {
   "cell_type": "markdown",
   "metadata": {},
   "source": [
    "# Description:  \n",
    "This Notebook is the example of Small analytical work on Test Data and Syntetic examples"
   ]
  },
  {
   "cell_type": "markdown",
   "metadata": {},
   "source": [
    "# Structure:\n",
    "1. [Task_1 Dashboard Creation](#task_1)\n",
    "    - [Data reading and processing](#data-reading-and-processing)\n",
    "    - [Visualization funnel](#visualization-funnel)\n",
    "    - [Discussion](#discussion)\n",
    "        - [How Dashboard can be improved](#how-dashboard-can-be-improved)\n",
    "2. [Task_2 A/B test design](#task2-ab-test-design)\n",
    "    - [Assumptions](#assumptions)\n",
    "    - [Hypothesis](#hypothesis)\n",
    "    - [Test](#test)\n",
    "        - [Design](#design)\n",
    "        - [Results processing](#обработка-результатов)"
   ]
  },
  {
   "cell_type": "markdown",
   "metadata": {},
   "source": [
    "# Task_1\n",
    "Company - Online Retailer  \n",
    "Now company starts to work on increasing Conversion on Web-site  \n",
    "Therefore, we want to monitor Conversion on main Stages of Customer Journey. We will create Conversion Funnel Dashboard based on Users Clicks Data.  \n",
    "In the current project we consider specific Landing Wb page on Our main Web-site\n",
    "Therefore, main stages that will be considered:\n",
    "1. User on main web-page action\n",
    "1. Transfer on considered Landing page\n",
    "2. Click on Copy link button\n",
    "3. Registration\n",
    "4. Click on Pay button\n",
    "5. Successful payment "
   ]
  },
  {
   "cell_type": "markdown",
   "metadata": {},
   "source": [
    "## Data Reading and Processing"
   ]
  },
  {
   "cell_type": "markdown",
   "metadata": {},
   "source": [
    "Actions from Web page were collected to the .csv file:"
   ]
  },
  {
   "cell_type": "code",
   "execution_count": 3,
   "metadata": {},
   "outputs": [
    {
     "data": {
      "text/html": [
       "<div>\n",
       "<style scoped>\n",
       "    .dataframe tbody tr th:only-of-type {\n",
       "        vertical-align: middle;\n",
       "    }\n",
       "\n",
       "    .dataframe tbody tr th {\n",
       "        vertical-align: top;\n",
       "    }\n",
       "\n",
       "    .dataframe thead th {\n",
       "        text-align: right;\n",
       "    }\n",
       "</style>\n",
       "<table border=\"1\" class=\"dataframe\">\n",
       "  <thead>\n",
       "    <tr style=\"text-align: right;\">\n",
       "      <th></th>\n",
       "      <th>localUserId</th>\n",
       "      <th>dateTime</th>\n",
       "      <th>utm_campaign</th>\n",
       "      <th>utm_source</th>\n",
       "      <th>utm_medium</th>\n",
       "      <th>os</th>\n",
       "      <th>browser</th>\n",
       "      <th>blockid</th>\n",
       "      <th>event</th>\n",
       "    </tr>\n",
       "  </thead>\n",
       "  <tbody>\n",
       "    <tr>\n",
       "      <th>0</th>\n",
       "      <td>1a8f3eb1-414b-45e8-8ccb-79043494ef68</td>\n",
       "      <td>2022-02-27 23:28:23.673 UTC</td>\n",
       "      <td>NaN</td>\n",
       "      <td>visitka</td>\n",
       "      <td>NaN</td>\n",
       "      <td>Android</td>\n",
       "      <td>Instagram</td>\n",
       "      <td>NaN</td>\n",
       "      <td>register-confirm-code-success</td>\n",
       "    </tr>\n",
       "    <tr>\n",
       "      <th>1</th>\n",
       "      <td>1a8f3eb1-414b-45e8-8ccb-79043494ef68</td>\n",
       "      <td>2022-02-27 23:29:10.436 UTC</td>\n",
       "      <td>NaN</td>\n",
       "      <td>visitka</td>\n",
       "      <td>NaN</td>\n",
       "      <td>Android</td>\n",
       "      <td>Instagram</td>\n",
       "      <td>NaN</td>\n",
       "      <td>editor.add.click</td>\n",
       "    </tr>\n",
       "  </tbody>\n",
       "</table>\n",
       "</div>"
      ],
      "text/plain": [
       "                            localUserId                     dateTime  \\\n",
       "0  1a8f3eb1-414b-45e8-8ccb-79043494ef68  2022-02-27 23:28:23.673 UTC   \n",
       "1  1a8f3eb1-414b-45e8-8ccb-79043494ef68  2022-02-27 23:29:10.436 UTC   \n",
       "\n",
       "  utm_campaign utm_source utm_medium       os    browser blockid  \\\n",
       "0          NaN    visitka        NaN  Android  Instagram     NaN   \n",
       "1          NaN    visitka        NaN  Android  Instagram     NaN   \n",
       "\n",
       "                           event  \n",
       "0  register-confirm-code-success  \n",
       "1               editor.add.click  "
      ]
     },
     "execution_count": 3,
     "metadata": {},
     "output_type": "execute_result"
    }
   ],
   "source": [
    "# Reading Web page data:\n",
    "web_page_data = pd.read_csv('./data/web_page_data.csv')\n",
    "web_page_data.head(2)"
   ]
  },
  {
   "cell_type": "markdown",
   "metadata": {},
   "source": [
    "Web page data stores following information about each event:\n",
    "- localUserId - id of user in Web Site DataBase\n",
    "- dateTime - datetime string of action\n",
    "- utm_campaign - name of marketing campaign\n",
    "- utm_source - source of traffic\n",
    "- utm_medium - name of campaign type\n",
    "- os - Operational System of user\n",
    "- browser - user's browser\n",
    "- blockid - identificator of click, which was changed\n",
    "- event - event type"
   ]
  },
  {
   "cell_type": "markdown",
   "metadata": {},
   "source": [
    "In dashboard we decided to use following filtes:\n",
    "- Stage (event type)\n",
    "- Date of event\n",
    "- Time of event\n",
    "- Browser\n",
    "- OS  \n",
    "\n",
    "Local user Id will be used to Count number of Actions  \n",
    "\n",
    "therefore, other columns may de droped for current task"
   ]
  },
  {
   "cell_type": "code",
   "execution_count": 7,
   "metadata": {},
   "outputs": [],
   "source": [
    "# drop columns, which will not be used in analysis:\n",
    "web_page_data.drop(columns=['utm_campaign',\n",
    "                            'utm_source',\n",
    "                            'utm_medium',\n",
    "                            'blockid'], inplace=True)"
   ]
  },
  {
   "cell_type": "markdown",
   "metadata": {},
   "source": [
    "Event column stores technical names which are not intuitive for analysis, therefore we need to load dictonary table with names of events:"
   ]
  },
  {
   "cell_type": "code",
   "execution_count": 10,
   "metadata": {},
   "outputs": [
    {
     "data": {
      "text/html": [
       "<div>\n",
       "<style scoped>\n",
       "    .dataframe tbody tr th:only-of-type {\n",
       "        vertical-align: middle;\n",
       "    }\n",
       "\n",
       "    .dataframe tbody tr th {\n",
       "        vertical-align: top;\n",
       "    }\n",
       "\n",
       "    .dataframe thead th {\n",
       "        text-align: right;\n",
       "    }\n",
       "</style>\n",
       "<table border=\"1\" class=\"dataframe\">\n",
       "  <thead>\n",
       "    <tr style=\"text-align: right;\">\n",
       "      <th></th>\n",
       "      <th>event</th>\n",
       "      <th>event_descr</th>\n",
       "    </tr>\n",
       "  </thead>\n",
       "  <tbody>\n",
       "    <tr>\n",
       "      <th>0</th>\n",
       "      <td>landing.unique-visit</td>\n",
       "      <td>Transfer on considered Landing page</td>\n",
       "    </tr>\n",
       "    <tr>\n",
       "      <th>1</th>\n",
       "      <td>register-confirm-code-success</td>\n",
       "      <td>Registration</td>\n",
       "    </tr>\n",
       "    <tr>\n",
       "      <th>2</th>\n",
       "      <td>editor.add.click</td>\n",
       "      <td>Click on add button</td>\n",
       "    </tr>\n",
       "  </tbody>\n",
       "</table>\n",
       "</div>"
      ],
      "text/plain": [
       "                           event                          event_descr\n",
       "0           landing.unique-visit  Transfer on considered Landing page\n",
       "1  register-confirm-code-success                         Registration\n",
       "2               editor.add.click                  Click on add button"
      ]
     },
     "execution_count": 10,
     "metadata": {},
     "output_type": "execute_result"
    }
   ],
   "source": [
    "# reading events descritption table:\n",
    "events_descr = pd.read_excel('./data/events_types.xlsx', sheet_name='desc')\n",
    "events_descr.head(3)"
   ]
  },
  {
   "cell_type": "markdown",
   "metadata": {},
   "source": [
    "Then join, description to Web_page_data  \n",
    "at this stage join is left, to ba able to analyze events on other stages\n",
    "however, later other stages will be filtered"
   ]
  },
  {
   "cell_type": "code",
   "execution_count": 12,
   "metadata": {},
   "outputs": [],
   "source": [
    "# join events descr:\n",
    "data = pd.merge(web_page_data, events_descr, how='left', on='event')"
   ]
  },
  {
   "cell_type": "markdown",
   "metadata": {},
   "source": [
    "For Analysis, we will separate Datetime column on Date and time columns  \n",
    "Time column will be rounded to 30 minutes periods"
   ]
  },
  {
   "cell_type": "code",
   "execution_count": 13,
   "metadata": {},
   "outputs": [],
   "source": [
    "# convert datetime column to datetime format and separate date and time (round to 30 min)\n",
    "data['event_date_time'] = pd.to_datetime(data['dateTime'])\n",
    "data['data'] = data['event_date_time'].dt.date\n",
    "data['time'] = data['event_date_time'].dt.round('30min').dt.time"
   ]
  },
  {
   "cell_type": "code",
   "execution_count": 14,
   "metadata": {},
   "outputs": [],
   "source": [
    "#save for analysis:\n",
    "data.to_csv('./data/data_final.csv')"
   ]
  },
  {
   "cell_type": "code",
   "execution_count": 18,
   "metadata": {},
   "outputs": [
    {
     "data": {
      "text/plain": [
       "['localUserId',\n",
       " 'dateTime',\n",
       " 'os',\n",
       " 'browser',\n",
       " 'event',\n",
       " 'event_descr',\n",
       " 'event_date_time',\n",
       " 'data',\n",
       " 'time']"
      ]
     },
     "execution_count": 18,
     "metadata": {},
     "output_type": "execute_result"
    }
   ],
   "source": [
    "# columns in dataset\n",
    "list(data.columns)"
   ]
  },
  {
   "cell_type": "markdown",
   "metadata": {},
   "source": [
    "### Visualization funnel:"
   ]
  },
  {
   "cell_type": "code",
   "execution_count": 19,
   "metadata": {},
   "outputs": [],
   "source": [
    "stage_list = ['User on main web-page action',\n",
    "              'Transfer on considered Landing page',\n",
    "              'Click on Copy link button',\n",
    "              'Registration',\n",
    "              'Click on Pay button',\n",
    "              'Successful payment']\n",
    "\n",
    "# filter only specific stages:\n",
    "data = data[data['event_descr'].isin(stage_list)]"
   ]
  },
  {
   "cell_type": "markdown",
   "metadata": {},
   "source": [
    "Calculate number of events on each Stage:"
   ]
  },
  {
   "cell_type": "code",
   "execution_count": 20,
   "metadata": {},
   "outputs": [
    {
     "data": {
      "text/html": [
       "<div>\n",
       "<style scoped>\n",
       "    .dataframe tbody tr th:only-of-type {\n",
       "        vertical-align: middle;\n",
       "    }\n",
       "\n",
       "    .dataframe tbody tr th {\n",
       "        vertical-align: top;\n",
       "    }\n",
       "\n",
       "    .dataframe thead th {\n",
       "        text-align: right;\n",
       "    }\n",
       "</style>\n",
       "<table border=\"1\" class=\"dataframe\">\n",
       "  <thead>\n",
       "    <tr style=\"text-align: right;\">\n",
       "      <th></th>\n",
       "      <th>stage</th>\n",
       "      <th>count_events</th>\n",
       "    </tr>\n",
       "  </thead>\n",
       "  <tbody>\n",
       "    <tr>\n",
       "      <th>5</th>\n",
       "      <td>User on main web-page action</td>\n",
       "      <td>16562</td>\n",
       "    </tr>\n",
       "    <tr>\n",
       "      <th>4</th>\n",
       "      <td>Transfer on considered Landing page</td>\n",
       "      <td>8419</td>\n",
       "    </tr>\n",
       "    <tr>\n",
       "      <th>0</th>\n",
       "      <td>Click on Copy link button</td>\n",
       "      <td>2706</td>\n",
       "    </tr>\n",
       "    <tr>\n",
       "      <th>2</th>\n",
       "      <td>Registration</td>\n",
       "      <td>2404</td>\n",
       "    </tr>\n",
       "    <tr>\n",
       "      <th>1</th>\n",
       "      <td>Click on Pay button</td>\n",
       "      <td>94</td>\n",
       "    </tr>\n",
       "    <tr>\n",
       "      <th>3</th>\n",
       "      <td>Successful payment</td>\n",
       "      <td>24</td>\n",
       "    </tr>\n",
       "  </tbody>\n",
       "</table>\n",
       "</div>"
      ],
      "text/plain": [
       "                                 stage  count_events\n",
       "5         User on main web-page action         16562\n",
       "4  Transfer on considered Landing page          8419\n",
       "0            Click on Copy link button          2706\n",
       "2                         Registration          2404\n",
       "1                  Click on Pay button            94\n",
       "3                   Successful payment            24"
      ]
     },
     "execution_count": 20,
     "metadata": {},
     "output_type": "execute_result"
    }
   ],
   "source": [
    "count_events = data.groupby('event_descr', as_index=False).agg({\n",
    "    'localUserId': 'count'\n",
    "})\n",
    "count_events.columns = ['stage', 'count_events']\n",
    "count_events.sort_values(by='count_events', ascending=False, inplace=True)\n",
    "count_events"
   ]
  },
  {
   "cell_type": "markdown",
   "metadata": {},
   "source": [
    "Build funnel visualization:"
   ]
  },
  {
   "cell_type": "code",
   "execution_count": 21,
   "metadata": {},
   "outputs": [
    {
     "data": {
      "application/vnd.plotly.v1+json": {
       "config": {
        "plotlyServerURL": "https://plot.ly"
       },
       "data": [
        {
         "hovertemplate": "count_events=%{x}<br>stage=%{y}<extra></extra>",
         "legendgroup": "",
         "marker": {
          "color": "#636efa"
         },
         "name": "",
         "orientation": "h",
         "showlegend": false,
         "type": "funnel",
         "x": [
          16562,
          8419,
          2706,
          2404,
          94,
          24
         ],
         "xaxis": "x",
         "y": [
          "User on main web-page action",
          "Transfer on considered Landing page",
          "Click on Copy link button",
          "Registration",
          "Click on Pay button",
          "Successful payment"
         ],
         "yaxis": "y"
        }
       ],
       "layout": {
        "legend": {
         "tracegroupgap": 0
        },
        "margin": {
         "t": 60
        },
        "template": {
         "data": {
          "bar": [
           {
            "error_x": {
             "color": "#2a3f5f"
            },
            "error_y": {
             "color": "#2a3f5f"
            },
            "marker": {
             "line": {
              "color": "#E5ECF6",
              "width": 0.5
             },
             "pattern": {
              "fillmode": "overlay",
              "size": 10,
              "solidity": 0.2
             }
            },
            "type": "bar"
           }
          ],
          "barpolar": [
           {
            "marker": {
             "line": {
              "color": "#E5ECF6",
              "width": 0.5
             },
             "pattern": {
              "fillmode": "overlay",
              "size": 10,
              "solidity": 0.2
             }
            },
            "type": "barpolar"
           }
          ],
          "carpet": [
           {
            "aaxis": {
             "endlinecolor": "#2a3f5f",
             "gridcolor": "white",
             "linecolor": "white",
             "minorgridcolor": "white",
             "startlinecolor": "#2a3f5f"
            },
            "baxis": {
             "endlinecolor": "#2a3f5f",
             "gridcolor": "white",
             "linecolor": "white",
             "minorgridcolor": "white",
             "startlinecolor": "#2a3f5f"
            },
            "type": "carpet"
           }
          ],
          "choropleth": [
           {
            "colorbar": {
             "outlinewidth": 0,
             "ticks": ""
            },
            "type": "choropleth"
           }
          ],
          "contour": [
           {
            "colorbar": {
             "outlinewidth": 0,
             "ticks": ""
            },
            "colorscale": [
             [
              0,
              "#0d0887"
             ],
             [
              0.1111111111111111,
              "#46039f"
             ],
             [
              0.2222222222222222,
              "#7201a8"
             ],
             [
              0.3333333333333333,
              "#9c179e"
             ],
             [
              0.4444444444444444,
              "#bd3786"
             ],
             [
              0.5555555555555556,
              "#d8576b"
             ],
             [
              0.6666666666666666,
              "#ed7953"
             ],
             [
              0.7777777777777778,
              "#fb9f3a"
             ],
             [
              0.8888888888888888,
              "#fdca26"
             ],
             [
              1,
              "#f0f921"
             ]
            ],
            "type": "contour"
           }
          ],
          "contourcarpet": [
           {
            "colorbar": {
             "outlinewidth": 0,
             "ticks": ""
            },
            "type": "contourcarpet"
           }
          ],
          "heatmap": [
           {
            "colorbar": {
             "outlinewidth": 0,
             "ticks": ""
            },
            "colorscale": [
             [
              0,
              "#0d0887"
             ],
             [
              0.1111111111111111,
              "#46039f"
             ],
             [
              0.2222222222222222,
              "#7201a8"
             ],
             [
              0.3333333333333333,
              "#9c179e"
             ],
             [
              0.4444444444444444,
              "#bd3786"
             ],
             [
              0.5555555555555556,
              "#d8576b"
             ],
             [
              0.6666666666666666,
              "#ed7953"
             ],
             [
              0.7777777777777778,
              "#fb9f3a"
             ],
             [
              0.8888888888888888,
              "#fdca26"
             ],
             [
              1,
              "#f0f921"
             ]
            ],
            "type": "heatmap"
           }
          ],
          "heatmapgl": [
           {
            "colorbar": {
             "outlinewidth": 0,
             "ticks": ""
            },
            "colorscale": [
             [
              0,
              "#0d0887"
             ],
             [
              0.1111111111111111,
              "#46039f"
             ],
             [
              0.2222222222222222,
              "#7201a8"
             ],
             [
              0.3333333333333333,
              "#9c179e"
             ],
             [
              0.4444444444444444,
              "#bd3786"
             ],
             [
              0.5555555555555556,
              "#d8576b"
             ],
             [
              0.6666666666666666,
              "#ed7953"
             ],
             [
              0.7777777777777778,
              "#fb9f3a"
             ],
             [
              0.8888888888888888,
              "#fdca26"
             ],
             [
              1,
              "#f0f921"
             ]
            ],
            "type": "heatmapgl"
           }
          ],
          "histogram": [
           {
            "marker": {
             "pattern": {
              "fillmode": "overlay",
              "size": 10,
              "solidity": 0.2
             }
            },
            "type": "histogram"
           }
          ],
          "histogram2d": [
           {
            "colorbar": {
             "outlinewidth": 0,
             "ticks": ""
            },
            "colorscale": [
             [
              0,
              "#0d0887"
             ],
             [
              0.1111111111111111,
              "#46039f"
             ],
             [
              0.2222222222222222,
              "#7201a8"
             ],
             [
              0.3333333333333333,
              "#9c179e"
             ],
             [
              0.4444444444444444,
              "#bd3786"
             ],
             [
              0.5555555555555556,
              "#d8576b"
             ],
             [
              0.6666666666666666,
              "#ed7953"
             ],
             [
              0.7777777777777778,
              "#fb9f3a"
             ],
             [
              0.8888888888888888,
              "#fdca26"
             ],
             [
              1,
              "#f0f921"
             ]
            ],
            "type": "histogram2d"
           }
          ],
          "histogram2dcontour": [
           {
            "colorbar": {
             "outlinewidth": 0,
             "ticks": ""
            },
            "colorscale": [
             [
              0,
              "#0d0887"
             ],
             [
              0.1111111111111111,
              "#46039f"
             ],
             [
              0.2222222222222222,
              "#7201a8"
             ],
             [
              0.3333333333333333,
              "#9c179e"
             ],
             [
              0.4444444444444444,
              "#bd3786"
             ],
             [
              0.5555555555555556,
              "#d8576b"
             ],
             [
              0.6666666666666666,
              "#ed7953"
             ],
             [
              0.7777777777777778,
              "#fb9f3a"
             ],
             [
              0.8888888888888888,
              "#fdca26"
             ],
             [
              1,
              "#f0f921"
             ]
            ],
            "type": "histogram2dcontour"
           }
          ],
          "mesh3d": [
           {
            "colorbar": {
             "outlinewidth": 0,
             "ticks": ""
            },
            "type": "mesh3d"
           }
          ],
          "parcoords": [
           {
            "line": {
             "colorbar": {
              "outlinewidth": 0,
              "ticks": ""
             }
            },
            "type": "parcoords"
           }
          ],
          "pie": [
           {
            "automargin": true,
            "type": "pie"
           }
          ],
          "scatter": [
           {
            "fillpattern": {
             "fillmode": "overlay",
             "size": 10,
             "solidity": 0.2
            },
            "type": "scatter"
           }
          ],
          "scatter3d": [
           {
            "line": {
             "colorbar": {
              "outlinewidth": 0,
              "ticks": ""
             }
            },
            "marker": {
             "colorbar": {
              "outlinewidth": 0,
              "ticks": ""
             }
            },
            "type": "scatter3d"
           }
          ],
          "scattercarpet": [
           {
            "marker": {
             "colorbar": {
              "outlinewidth": 0,
              "ticks": ""
             }
            },
            "type": "scattercarpet"
           }
          ],
          "scattergeo": [
           {
            "marker": {
             "colorbar": {
              "outlinewidth": 0,
              "ticks": ""
             }
            },
            "type": "scattergeo"
           }
          ],
          "scattergl": [
           {
            "marker": {
             "colorbar": {
              "outlinewidth": 0,
              "ticks": ""
             }
            },
            "type": "scattergl"
           }
          ],
          "scattermapbox": [
           {
            "marker": {
             "colorbar": {
              "outlinewidth": 0,
              "ticks": ""
             }
            },
            "type": "scattermapbox"
           }
          ],
          "scatterpolar": [
           {
            "marker": {
             "colorbar": {
              "outlinewidth": 0,
              "ticks": ""
             }
            },
            "type": "scatterpolar"
           }
          ],
          "scatterpolargl": [
           {
            "marker": {
             "colorbar": {
              "outlinewidth": 0,
              "ticks": ""
             }
            },
            "type": "scatterpolargl"
           }
          ],
          "scatterternary": [
           {
            "marker": {
             "colorbar": {
              "outlinewidth": 0,
              "ticks": ""
             }
            },
            "type": "scatterternary"
           }
          ],
          "surface": [
           {
            "colorbar": {
             "outlinewidth": 0,
             "ticks": ""
            },
            "colorscale": [
             [
              0,
              "#0d0887"
             ],
             [
              0.1111111111111111,
              "#46039f"
             ],
             [
              0.2222222222222222,
              "#7201a8"
             ],
             [
              0.3333333333333333,
              "#9c179e"
             ],
             [
              0.4444444444444444,
              "#bd3786"
             ],
             [
              0.5555555555555556,
              "#d8576b"
             ],
             [
              0.6666666666666666,
              "#ed7953"
             ],
             [
              0.7777777777777778,
              "#fb9f3a"
             ],
             [
              0.8888888888888888,
              "#fdca26"
             ],
             [
              1,
              "#f0f921"
             ]
            ],
            "type": "surface"
           }
          ],
          "table": [
           {
            "cells": {
             "fill": {
              "color": "#EBF0F8"
             },
             "line": {
              "color": "white"
             }
            },
            "header": {
             "fill": {
              "color": "#C8D4E3"
             },
             "line": {
              "color": "white"
             }
            },
            "type": "table"
           }
          ]
         },
         "layout": {
          "annotationdefaults": {
           "arrowcolor": "#2a3f5f",
           "arrowhead": 0,
           "arrowwidth": 1
          },
          "autotypenumbers": "strict",
          "coloraxis": {
           "colorbar": {
            "outlinewidth": 0,
            "ticks": ""
           }
          },
          "colorscale": {
           "diverging": [
            [
             0,
             "#8e0152"
            ],
            [
             0.1,
             "#c51b7d"
            ],
            [
             0.2,
             "#de77ae"
            ],
            [
             0.3,
             "#f1b6da"
            ],
            [
             0.4,
             "#fde0ef"
            ],
            [
             0.5,
             "#f7f7f7"
            ],
            [
             0.6,
             "#e6f5d0"
            ],
            [
             0.7,
             "#b8e186"
            ],
            [
             0.8,
             "#7fbc41"
            ],
            [
             0.9,
             "#4d9221"
            ],
            [
             1,
             "#276419"
            ]
           ],
           "sequential": [
            [
             0,
             "#0d0887"
            ],
            [
             0.1111111111111111,
             "#46039f"
            ],
            [
             0.2222222222222222,
             "#7201a8"
            ],
            [
             0.3333333333333333,
             "#9c179e"
            ],
            [
             0.4444444444444444,
             "#bd3786"
            ],
            [
             0.5555555555555556,
             "#d8576b"
            ],
            [
             0.6666666666666666,
             "#ed7953"
            ],
            [
             0.7777777777777778,
             "#fb9f3a"
            ],
            [
             0.8888888888888888,
             "#fdca26"
            ],
            [
             1,
             "#f0f921"
            ]
           ],
           "sequentialminus": [
            [
             0,
             "#0d0887"
            ],
            [
             0.1111111111111111,
             "#46039f"
            ],
            [
             0.2222222222222222,
             "#7201a8"
            ],
            [
             0.3333333333333333,
             "#9c179e"
            ],
            [
             0.4444444444444444,
             "#bd3786"
            ],
            [
             0.5555555555555556,
             "#d8576b"
            ],
            [
             0.6666666666666666,
             "#ed7953"
            ],
            [
             0.7777777777777778,
             "#fb9f3a"
            ],
            [
             0.8888888888888888,
             "#fdca26"
            ],
            [
             1,
             "#f0f921"
            ]
           ]
          },
          "colorway": [
           "#636efa",
           "#EF553B",
           "#00cc96",
           "#ab63fa",
           "#FFA15A",
           "#19d3f3",
           "#FF6692",
           "#B6E880",
           "#FF97FF",
           "#FECB52"
          ],
          "font": {
           "color": "#2a3f5f"
          },
          "geo": {
           "bgcolor": "white",
           "lakecolor": "white",
           "landcolor": "#E5ECF6",
           "showlakes": true,
           "showland": true,
           "subunitcolor": "white"
          },
          "hoverlabel": {
           "align": "left"
          },
          "hovermode": "closest",
          "mapbox": {
           "style": "light"
          },
          "paper_bgcolor": "white",
          "plot_bgcolor": "#E5ECF6",
          "polar": {
           "angularaxis": {
            "gridcolor": "white",
            "linecolor": "white",
            "ticks": ""
           },
           "bgcolor": "#E5ECF6",
           "radialaxis": {
            "gridcolor": "white",
            "linecolor": "white",
            "ticks": ""
           }
          },
          "scene": {
           "xaxis": {
            "backgroundcolor": "#E5ECF6",
            "gridcolor": "white",
            "gridwidth": 2,
            "linecolor": "white",
            "showbackground": true,
            "ticks": "",
            "zerolinecolor": "white"
           },
           "yaxis": {
            "backgroundcolor": "#E5ECF6",
            "gridcolor": "white",
            "gridwidth": 2,
            "linecolor": "white",
            "showbackground": true,
            "ticks": "",
            "zerolinecolor": "white"
           },
           "zaxis": {
            "backgroundcolor": "#E5ECF6",
            "gridcolor": "white",
            "gridwidth": 2,
            "linecolor": "white",
            "showbackground": true,
            "ticks": "",
            "zerolinecolor": "white"
           }
          },
          "shapedefaults": {
           "line": {
            "color": "#2a3f5f"
           }
          },
          "ternary": {
           "aaxis": {
            "gridcolor": "white",
            "linecolor": "white",
            "ticks": ""
           },
           "baxis": {
            "gridcolor": "white",
            "linecolor": "white",
            "ticks": ""
           },
           "bgcolor": "#E5ECF6",
           "caxis": {
            "gridcolor": "white",
            "linecolor": "white",
            "ticks": ""
           }
          },
          "title": {
           "x": 0.05
          },
          "xaxis": {
           "automargin": true,
           "gridcolor": "white",
           "linecolor": "white",
           "ticks": "",
           "title": {
            "standoff": 15
           },
           "zerolinecolor": "white",
           "zerolinewidth": 2
          },
          "yaxis": {
           "automargin": true,
           "gridcolor": "white",
           "linecolor": "white",
           "ticks": "",
           "title": {
            "standoff": 15
           },
           "zerolinecolor": "white",
           "zerolinewidth": 2
          }
         }
        },
        "xaxis": {
         "anchor": "y",
         "domain": [
          0,
          1
         ],
         "title": {
          "text": "count_events"
         }
        },
        "yaxis": {
         "anchor": "x",
         "domain": [
          0,
          1
         ],
         "title": {
          "text": "stage"
         }
        }
       }
      }
     },
     "metadata": {},
     "output_type": "display_data"
    }
   ],
   "source": [
    "fig = px.funnel(count_events, x='count_events', y='stage')\n",
    "fig.show()"
   ]
  },
  {
   "cell_type": "markdown",
   "metadata": {},
   "source": [
    "### Discussion"
   ]
  },
  {
   "cell_type": "markdown",
   "metadata": {},
   "source": [
    "Such Dashboard may be usefull to evaluate Conversion between Stages to the Target event (Successful payment)  \n",
    "- To increase efficiency of this Dashboard we need to clearly understand Customer Journey"
   ]
  },
  {
   "cell_type": "markdown",
   "metadata": {},
   "source": [
    "In that example let us consider the folliwing Schema:"
   ]
  },
  {
   "cell_type": "markdown",
   "metadata": {},
   "source": [
    "![](./images/client_journey.png)"
   ]
  },
  {
   "cell_type": "markdown",
   "metadata": {},
   "source": [
    "Considering such Customer Journey, Created Funnel Chart may let us find insights about what stages can be \"bottle neck\" in our Sales process"
   ]
  },
  {
   "cell_type": "markdown",
   "metadata": {},
   "source": [
    "### How Dashboard can be improved"
   ]
  },
  {
   "cell_type": "markdown",
   "metadata": {},
   "source": [
    "- Data quality:  \n",
    "    We can not make decisions based on data which we do not trust. That is why it is crusial to ensure that data is free of Duplicates or Anomalys and other data quality issues, which can distort results\n",
    "- Add new data features:  \n",
    "    Entrance of new data features (dimensions) (like geograpical data etc.), and also Measures (Ticket Amount and so on) may help to find new insights in data"
   ]
  },
  {
   "cell_type": "markdown",
   "metadata": {},
   "source": [
    "# Task_2 A/B Test Design"
   ]
  },
  {
   "cell_type": "markdown",
   "metadata": {},
   "source": [
    "Company - creates \"Mini Sites\" for users.\n",
    "Each mini site created on the platform has Indication that references Company's site, which is now disegned in Blue color  \n",
    "![Option A](./images/Option_A.png)\n",
    "This feature allows product to gain new users   \n",
    "However it may also infuence result for current users:\n",
    "- For example. Massage Salon has created their Mini Site and then manager saw bright Blue design of bottom of web site and reject publishing"
   ]
  },
  {
   "cell_type": "markdown",
   "metadata": {},
   "source": [
    "Consider the possible Customer Journey:  \n",
    "\n",
    "![](./images/client_journey_mini_site.png)"
   ]
  },
  {
   "cell_type": "markdown",
   "metadata": {},
   "source": [
    "## Assumptions\n",
    "\n",
    "### Conversion"
   ]
  },
  {
   "cell_type": "code",
   "execution_count": 16,
   "metadata": {},
   "outputs": [
    {
     "data": {
      "text/html": [
       "<div>\n",
       "<style scoped>\n",
       "    .dataframe tbody tr th:only-of-type {\n",
       "        vertical-align: middle;\n",
       "    }\n",
       "\n",
       "    .dataframe tbody tr th {\n",
       "        vertical-align: top;\n",
       "    }\n",
       "\n",
       "    .dataframe thead th {\n",
       "        text-align: right;\n",
       "    }\n",
       "</style>\n",
       "<table border=\"1\" class=\"dataframe\">\n",
       "  <thead>\n",
       "    <tr style=\"text-align: right;\">\n",
       "      <th></th>\n",
       "      <th>Stage in Journey</th>\n",
       "      <th>Conversion Rate, %</th>\n",
       "    </tr>\n",
       "  </thead>\n",
       "  <tbody>\n",
       "    <tr>\n",
       "      <th>0</th>\n",
       "      <td>QR scan</td>\n",
       "      <td>30</td>\n",
       "    </tr>\n",
       "    <tr>\n",
       "      <th>1</th>\n",
       "      <td>Site creation</td>\n",
       "      <td>60</td>\n",
       "    </tr>\n",
       "    <tr>\n",
       "      <th>2</th>\n",
       "      <td>Final observation</td>\n",
       "      <td>20</td>\n",
       "    </tr>\n",
       "    <tr>\n",
       "      <th>3</th>\n",
       "      <td>Publish</td>\n",
       "      <td>10</td>\n",
       "    </tr>\n",
       "  </tbody>\n",
       "</table>\n",
       "</div>"
      ],
      "text/plain": [
       "    Stage in Journey  Conversion Rate, %\n",
       "0            QR scan                  30\n",
       "1      Site creation                  60\n",
       "2  Final observation                  20\n",
       "3            Publish                  10"
      ]
     },
     "execution_count": 16,
     "metadata": {},
     "output_type": "execute_result"
    }
   ],
   "source": [
    "df_base = pd.DataFrame({\n",
    "    'Stage in Journey': ['QR scan', 'Site creation', 'Final observation', 'Publish'],\n",
    "    'Conversion Rate, %': [30, 60, 20, 10]\n",
    "})\n",
    "df_base"
   ]
  },
  {
   "cell_type": "code",
   "execution_count": 18,
   "metadata": {},
   "outputs": [
    {
     "name": "stdout",
     "output_type": "stream",
     "text": [
      "Overall conversion rate = 0.36 %\n"
     ]
    }
   ],
   "source": [
    "overall_conversion = \\\n",
    "df_base['Conversion Rate, %'][0]/100 * \\\n",
    "    df_base['Conversion Rate, %'][1]/100 *\\\n",
    "        df_base['Conversion Rate, %'][2]/100 * \\\n",
    "            df_base['Conversion Rate, %'][3]/100 * 100\n",
    "\n",
    "print(f'Overall conversion rate = {overall_conversion} %')"
   ]
  },
  {
   "cell_type": "markdown",
   "metadata": {},
   "source": [
    "Assume:\n",
    "- Number of unique users : 10 000 each month"
   ]
  },
  {
   "cell_type": "markdown",
   "metadata": {},
   "source": [
    "- Conversion Rate A (base case) = 10 %\n",
    "- Conversion Rate B (studied option) = 13 %\n",
    "- Significance level = 5 % (alpha)\n",
    "- Statistical power = 80 % (betta)"
   ]
  },
  {
   "cell_type": "markdown",
   "metadata": {},
   "source": [
    "## Hypothesis\n",
    "    -  Null Hypothesis - each options have same efficiency\n",
    "    -  Alternative Hypothesis - Options A and B have significantly different efficiency\n",
    "- By creation of less distructing disign of site bottom part users like design of their mini sites more, which brings us to higher conversion on last stage\n",
    "-  MDE - minimum detectable effect assume = **3 %**"
   ]
  },
  {
   "cell_type": "markdown",
   "metadata": {},
   "source": [
    "## Metrics:\n",
    "It is very important to choose proper metric, since it will influence Test timing and interpretation\n",
    "- In current example it will be beneficial to choose Conversion Rate on the last stage of Customer Journey (between viewing final version of mini site and clicking \"Publish\")\n",
    "    - The closer metric to the Interested stage the lower time will be required to produce statistically significant result"
   ]
  },
  {
   "cell_type": "markdown",
   "metadata": {},
   "source": [
    "## Test\n",
    "- We will conduct **two-tiled test** since we consider deviation from base case to the both sides (lower and higher conversion)"
   ]
  },
  {
   "cell_type": "markdown",
   "metadata": {},
   "source": [
    "### Design:"
   ]
  },
  {
   "cell_type": "code",
   "execution_count": 3,
   "metadata": {},
   "outputs": [
    {
     "name": "stdout",
     "output_type": "stream",
     "text": [
      "Size of data required for test: 1536\n"
     ]
    }
   ],
   "source": [
    "Z_alpha = 0.05\n",
    "Z_betta = 0.8\n",
    "CR_a = 0.2\n",
    "CR_b = 0.26\n",
    "n_required_1_tiled = (st.norm.ppf(Z_alpha) + st.norm.ppf(1-Z_betta))**2 *\\\n",
    "                 (CR_a * (1-CR_a) + CR_b * (1-CR_b)) \\\n",
    "                  / (CR_a - CR_b) ** 2\n",
    "n_required_2_tiled = (st.norm.ppf(Z_alpha/2) + st.norm.ppf(1-Z_betta))**2 *\\\n",
    "                 (CR_a * (1-CR_a) + CR_b * (1-CR_b)) \\\n",
    "                  / (CR_a - CR_b) ** 2\n",
    "\n",
    "n_required = round(n_required_2_tiled) * 2\n",
    "print(f'Size of data required for test: {n_required}')"
   ]
  },
  {
   "cell_type": "code",
   "execution_count": 6,
   "metadata": {},
   "outputs": [
    {
     "name": "stdout",
     "output_type": "stream",
     "text": [
      "Time required for test = 5 days\n"
     ]
    }
   ],
   "source": [
    "number_of_users_each_month = 10000\n",
    "number_of_users_per_day = number_of_users_each_month / 30\n",
    "required_time_days = round(n_required / number_of_users_per_day)\n",
    "print(f'Time required for test = {required_time_days} days')"
   ]
  },
  {
   "cell_type": "markdown",
   "metadata": {},
   "source": [
    "## Results interpretation"
   ]
  },
  {
   "cell_type": "markdown",
   "metadata": {},
   "source": [
    "Let us assume that we have already conducted designed test and received following results:"
   ]
  },
  {
   "cell_type": "code",
   "execution_count": 18,
   "metadata": {},
   "outputs": [
    {
     "name": "stdout",
     "output_type": "stream",
     "text": [
      "N - a: 769 , b: 769\n",
      "CR (convcersion rate) - a: 0.1000 , b: 0.1300\n",
      "Conversions -  a: 77 , b: 100\n",
      "Variance -  a: 0.0900 , b: 0.1131\n",
      "------------\n",
      "Z-score: 1.8460\n",
      "\n",
      "p-value: 0.064894\n"
     ]
    }
   ],
   "source": [
    "# Population\n",
    "n_a = n_required // 2 + 1\n",
    "n_b = n_required // 2 + 1\n",
    "\n",
    "# Conversion rate\n",
    "CR_a = 0.1\n",
    "CR_b = 0.13\n",
    "\n",
    "# Variance\n",
    "var_a = CR_a * (1-CR_a) \n",
    "var_b = CR_b * (1-CR_b)\n",
    "\n",
    "conversions_a = CR_a * n_a\n",
    "conversions_b = CR_b * n_b\n",
    "\n",
    "print('N - a: {:0.0f} , b: {:0.0f}'.format(n_a, n_b))\n",
    "print('CR (convcersion rate) - a: {:0.4f} , b: {:0.4f}'.format(CR_a, CR_b))\n",
    "print('Conversions -  a: {:0.0f} , b: {:0.0f}'.format(conversions_a, conversions_b))\n",
    "print('Variance -  a: {:0.4f} , b: {:0.4f}'.format(var_a, var_b))\n",
    "\n",
    "# Create combined random variable S\n",
    "mean_a = CR_a\n",
    "mean_b = CR_b\n",
    "S_mean = mean_b - mean_a\n",
    "S_var = (var_a/n_a) + (var_b/n_b)\n",
    "\n",
    "print('------------')\n",
    "Z_score = S_mean / np.sqrt(S_var)\n",
    "print('Z-score: {:0.4f}'.format(Z_score))\n",
    "\n",
    "print()\n",
    "import scipy.stats as st\n",
    "\n",
    "p_value_1_tail = 1-st.norm.cdf(Z_score)\n",
    "p_value_2_tail = p_value_1_tail * 2\n",
    "\n",
    "print('p-value: {:0.6f}'.format(p_value_2_tail))"
   ]
  },
  {
   "cell_type": "code",
   "execution_count": 19,
   "metadata": {},
   "outputs": [
    {
     "name": "stdout",
     "output_type": "stream",
     "text": [
      "Certainty in results significance: 93.51 %\n"
     ]
    }
   ],
   "source": [
    "print(f'Certainty in results significance: {round(1 - p_value_2_tail, 4) * 100} %')"
   ]
  },
  {
   "cell_type": "code",
   "execution_count": null,
   "metadata": {},
   "outputs": [],
   "source": []
  }
 ],
 "metadata": {
  "kernelspec": {
   "display_name": "Python 3.10.4 64-bit",
   "language": "python",
   "name": "python3"
  },
  "language_info": {
   "codemirror_mode": {
    "name": "ipython",
    "version": 3
   },
   "file_extension": ".py",
   "mimetype": "text/x-python",
   "name": "python",
   "nbconvert_exporter": "python",
   "pygments_lexer": "ipython3",
   "version": "3.10.4"
  },
  "orig_nbformat": 4,
  "vscode": {
   "interpreter": {
    "hash": "26de051ba29f2982a8de78e945f0abaf191376122a1563185a90213a26c5da77"
   }
  }
 },
 "nbformat": 4,
 "nbformat_minor": 2
}
